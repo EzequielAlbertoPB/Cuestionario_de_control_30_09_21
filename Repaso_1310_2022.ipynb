{
  "nbformat": 4,
  "nbformat_minor": 0,
  "metadata": {
    "colab": {
      "name": "Repaso_1310_2022.ipynb",
      "provenance": []
    },
    "kernelspec": {
      "name": "python3",
      "display_name": "Python 3"
    },
    "language_info": {
      "name": "python"
    }
  },
  "cells": [
    {
      "cell_type": "markdown",
      "metadata": {
        "id": "21kYw8SlfOnF"
      },
      "source": [
        "#Repaso de programación con Python 3\n",
        "\n",
        "### EDD 1310\n"
      ]
    },
    {
      "cell_type": "code",
      "metadata": {
        "colab": {
          "base_uri": "https://localhost:8080/"
        },
        "id": "nyTwapHub8sq",
        "outputId": "a8f14f55-c9e8-4c20-d3e1-292b015f0183"
      },
      "source": [
        "print('Hola Mundo')\n",
        "print('hola mundo')\n",
        "\n",
        "nombre = \"Ezequiel Alberto\"\n",
        "carrera = \"Ingeniería en Computación\"\n",
        "\n",
        "print('Nombre')\n",
        "\n",
        "print('Hola' , nombre)\n",
        "print('Hola + nombre')\n",
        "\n",
        "print ('Tu nombre es ' , nombre , 'y estudiaste ' , carrera)\n",
        "\n",
        "# con format\n",
        "\n",
        "print('Tu nombre es {} y estudiaste {}'.format(\"Sequi Cheque\" , carrera))"
      ],
      "execution_count": null,
      "outputs": [
        {
          "output_type": "stream",
          "name": "stdout",
          "text": [
            "Hola Mundo\n",
            "hola mundo\n",
            "Nombre\n",
            "Hola Ezequiel Alberto\n",
            "Hola + nombre\n",
            "Tu nombre es  Ezequiel Alberto y estudiaste  Ingeniería en Computación\n",
            "Tu nombre es Sequi Cheque y estudiaste Ingeniería en Computación\n"
          ]
        }
      ]
    },
    {
      "cell_type": "markdown",
      "metadata": {
        "id": "1s4gR6HVkxaL"
      },
      "source": [
        "## Entrada de datos\n",
        "### funcion input()\n",
        "\n",
        "siempre regresa un String"
      ]
    },
    {
      "cell_type": "code",
      "metadata": {
        "colab": {
          "base_uri": "https://localhost:8080/"
        },
        "id": "x6NMmauZkwt2",
        "outputId": "54262767-5e00-421c-a01a-6d4e1b9e7487"
      },
      "source": [
        "nombre = input(\"Introduce tu nombre: \")\n",
        "print(nombre)\n",
        "\n"
      ],
      "execution_count": null,
      "outputs": [
        {
          "output_type": "stream",
          "name": "stdout",
          "text": [
            "Introduce tu nombre: jujujio\n",
            "jujujio\n"
          ]
        }
      ]
    },
    {
      "cell_type": "markdown",
      "metadata": {
        "id": "Zk1BU_5fGP25"
      },
      "source": [
        "#slicing ( rebanado )\n",
        "\n",
        "Es posible seleccionar segmentos de una lista (str) por medio de la sintaxis [ <inicio>  <Tope>  <incremento> ]\n",
        "\n",
        "inicio=0\n",
        "\n",
        "Tope= tamaño de lista (str)\n",
        "\n",
        "Incremento=1\n"
      ]
    },
    {
      "cell_type": "code",
      "metadata": {
        "colab": {
          "base_uri": "https://localhost:8080/"
        },
        "id": "RDqQ5MmnHCPg",
        "outputId": "31385c29-71cb-4275-b44c-712dd10ef3b0"
      },
      "source": [
        "nombre = \"Facultad de Estudios Superiores Aragon\"\n",
        "\n",
        "print( nombre[0])\n",
        "print( nombre[-1])\n",
        "\n",
        "# slicing\n",
        "print(nombre[ 2 : 5 : 1 ])\n",
        "\n",
        "print(nombre[ 0 : 8 : 1 ])\n",
        "\n",
        "print(nombre[ -6 :  : 1 ])\n",
        "\n",
        "print(nombre[ 7 :  : -1 ])"
      ],
      "execution_count": null,
      "outputs": [
        {
          "output_type": "stream",
          "name": "stdout",
          "text": [
            "F\n",
            "n\n",
            "cul\n",
            "Facultad\n",
            "Aragon\n",
            "datlucaF\n"
          ]
        }
      ]
    },
    {
      "cell_type": "markdown",
      "metadata": {
        "id": "pDbk1pJDKgHK"
      },
      "source": [
        "# Strin como objeto \n",
        "\n",
        "El tipo de dato string es una clase, por lo tanto tiene atributos y metodos\n",
        "\n",
        "## Ayuda en linea com python\n",
        "\n",
        "Hay dos funciones que te dan ayuda en python\n",
        "\n",
        "dir()\n",
        "help()"
      ]
    },
    {
      "cell_type": "code",
      "metadata": {
        "colab": {
          "base_uri": "https://localhost:8080/"
        },
        "id": "a5vY9bJ0K1QB",
        "outputId": "71153555-2a82-4f35-9f77-6a5ef505d213"
      },
      "source": [
        "apellidos = \"pérez barajas\"\n",
        "\n",
        "print(apellidos.capitalize())\n",
        "print(apellidos.title())\n",
        "print(apellidos.find('a'))\n",
        "print('LOPEZ PEREZ'.lower())\n",
        "print(apellidos.upper())\n",
        "\n",
        "numeros = \"     1,      2   ,         3     ,4,5,6    \"\n",
        "\n",
        "num_divididos = numeros.strip().split(',')\n",
        "print(num_divididos)\n",
        "\n",
        "for elem in num_divididos:\n",
        "  print(elem)\n",
        "\n",
        "for index in range(6):\n",
        "  num_divididos[index] = num_divididos[index].strip()\n",
        "\n",
        "print(num_divididos)"
      ],
      "execution_count": null,
      "outputs": [
        {
          "output_type": "stream",
          "name": "stdout",
          "text": [
            "Pérez barajas\n",
            "Pérez Barajas\n",
            "7\n",
            "lopez perez\n",
            "PÉREZ BARAJAS\n",
            "['1', '      2   ', '         3     ', '4', '5', '6']\n",
            "1\n",
            "      2   \n",
            "         3     \n",
            "4\n",
            "5\n",
            "6\n",
            "['1', '2', '3', '4', '5', '6']\n"
          ]
        }
      ]
    },
    {
      "cell_type": "markdown",
      "metadata": {
        "id": "IzxOHSoBPbkj"
      },
      "source": [
        "# Estructuras de control\n",
        "\n",
        "##if\n",
        "\n",
        "##if-else\n",
        "\n",
        "##switch - (en python se implementan con IF)\n",
        "\n",
        "##for\n",
        "\n",
        "#while y do-while"
      ]
    },
    {
      "cell_type": "code",
      "metadata": {
        "colab": {
          "base_uri": "https://localhost:8080/"
        },
        "id": "msN_USsOPvaq",
        "outputId": "6c791a18-6c21-417a-dd88-28e1655687b4"
      },
      "source": [
        "# if\n",
        "a = 2\n",
        "b = 3\n",
        "c = 4\n",
        "\n",
        "print( a > b)\n",
        "\n",
        "if a > b :\n",
        "  print(\"Estamos en el IF\")\n",
        "  print(\"A es mayor que B\")\n",
        "\n",
        "print(\"Fin del programa\")\n",
        "\n",
        "algo = range(4, 10, 2)\n",
        "\n",
        "print(algo)\n",
        "\n",
        "for x in algo: # for(int x=4; x<10; x=x+2)\n",
        "  print(x)"
      ],
      "execution_count": null,
      "outputs": [
        {
          "output_type": "stream",
          "name": "stdout",
          "text": [
            "False\n",
            "Fin del programa\n",
            "range(4, 10, 2)\n",
            "4\n",
            "6\n",
            "8\n"
          ]
        }
      ]
    },
    {
      "cell_type": "markdown",
      "metadata": {
        "id": "BOFcjMCCJmHv"
      },
      "source": [
        "##default y funciones\n",
        "\n",
        "hay ocasiones que es necesario declarar valores por defecto en los argumentos de una funcion"
      ]
    },
    {
      "cell_type": "code",
      "metadata": {
        "colab": {
          "base_uri": "https://localhost:8080/"
        },
        "id": "FMFDRabtJ-w6",
        "outputId": "5a818e67-89e5-4b44-fcd8-73b844bce69b"
      },
      "source": [
        "def saludar( nombre , veces):\n",
        "  for x in range( veces ):\n",
        "    print(f\"{x}.- Hola { nombre }\")\n",
        "\n",
        "saludar( \"Juan\" , 2)\n",
        "\n",
        "# argumentos con llamadas posicionales \n",
        "\n",
        "saludar( veces=6 , nombre=\"Juan\")"
      ],
      "execution_count": null,
      "outputs": [
        {
          "output_type": "stream",
          "name": "stdout",
          "text": [
            "0.- Hola Juan\n",
            "1.- Hola Juan\n",
            "0.- Hola Juan\n",
            "1.- Hola Juan\n",
            "2.- Hola Juan\n",
            "3.- Hola Juan\n",
            "4.- Hola Juan\n",
            "5.- Hola Juan\n"
          ]
        }
      ]
    },
    {
      "cell_type": "markdown",
      "metadata": {
        "id": "hYQ5UuGrLPgR"
      },
      "source": [
        "# Listas\n",
        "\n",
        "Son estructuras de datos declaradas en C, con algunas diferencias.\n",
        "\n"
      ]
    },
    {
      "cell_type": "code",
      "metadata": {
        "colab": {
          "base_uri": "https://localhost:8080/"
        },
        "id": "PWvZP8VgMX_L",
        "outputId": "361cae00-4a3a-4b08-c9a3-93b791af90fb"
      },
      "source": [
        "frutas = [\"pera\", \"lima\", \"limon\", \"kiwi\", \"manzana\"]\n",
        "print(frutas)\n",
        "print( frutas[1])\n",
        "frutas[1] = \"Mango\"\n",
        "print(frutas)\n",
        "persona = (\"Jose\", 1.78, 19, False, 70.5, \"ICO\")\n",
        "print(persona)\n",
        "print(persona[-1])\n",
        "\n",
        "#Slicing\n",
        "numeros = [2, 4, 6, 8, 10, 12, 14, 16, 18, 20]\n",
        "print(numeros[4:7])"
      ],
      "execution_count": null,
      "outputs": [
        {
          "output_type": "stream",
          "name": "stdout",
          "text": [
            "['pera', 'lima', 'limon', 'kiwi', 'manzana']\n",
            "lima\n",
            "['pera', 'Mango', 'limon', 'kiwi', 'manzana']\n",
            "('Jose', 1.78, 19, False, 70.5, 'ICO')\n",
            "ICO\n",
            "[10, 12, 14]\n"
          ]
        }
      ]
    },
    {
      "cell_type": "code",
      "metadata": {
        "colab": {
          "base_uri": "https://localhost:8080/"
        },
        "id": "7hqUbSh2P2sb",
        "outputId": "26d89a41-b18e-4bcf-bfdf-992e39c14234"
      },
      "source": [
        "#Listas multidimencionales\n",
        "\n",
        "bds = [\"mysql\", \"Oracle\", \"BD2\", \"Mongo\", \"SQLite\"]\n",
        "leng_prog = ['C', 'Java', 'JS', 'C++', 'C#', 'Python']\n",
        "tecnologias = [bds , leng_prog]\n",
        "\n",
        "print(tecnologias)\n",
        "\"\"\"\n",
        "[\n",
        "  ['mysql', 'Oracle', 'BD2', 'Mongo', 'SQLite'], \n",
        "  ['C', 'Java', 'JS', 'C++', 'C#', 'Python']\n",
        "]\n",
        "\"\"\"\n",
        "print(tecnologias[1][3])\n",
        "print(tecnologias[0][4])\n",
        "print(tecnologias[1][2:5])\n"
      ],
      "execution_count": null,
      "outputs": [
        {
          "output_type": "stream",
          "name": "stdout",
          "text": [
            "[['mysql', 'Oracle', 'BD2', 'Mongo', 'SQLite'], ['C', 'Java', 'JS', 'C++', 'C#', 'Python']]\n",
            "C++\n",
            "SQLite\n",
            "['JS', 'C++', 'C#']\n"
          ]
        }
      ]
    },
    {
      "cell_type": "code",
      "metadata": {
        "id": "1Bi-h-FjQyIv"
      },
      "source": [
        ""
      ],
      "execution_count": null,
      "outputs": []
    },
    {
      "cell_type": "markdown",
      "metadata": {
        "id": "q7nPl4KIMW-z"
      },
      "source": [
        "# la clase list\n",
        "\n",
        "El tipo de dato list en realidad es una clase que tiene metodos.\n",
        "\n"
      ]
    },
    {
      "cell_type": "code",
      "metadata": {
        "colab": {
          "base_uri": "https://localhost:8080/"
        },
        "id": "84Pw4QMlSzWY",
        "outputId": "f7a1123c-3f12-45e8-d202-1151127c919e"
      },
      "source": [
        "numeros = [100, 23, 45, 23, 55, 1, 22, 101, 99]\n",
        "type(numeros)\n",
        "dir(numeros)\n",
        "\n",
        "#eliminar elementos de un arreglo 2 formas\n",
        "#primera forma\n",
        "del numeros[3]\n",
        "print(numeros)\n",
        "\n",
        "#segunda forma\n",
        "numeros.remove(23)\n",
        "print(numeros)\n",
        "\n",
        "#apenned agrega elementos al final\n",
        "numeros.append(0)\n",
        "numeros.append(33)\n",
        "numeros.sort()\n",
        "numeros.reverse()\n",
        "print(numeros)\n",
        "numeros.insert(3, 60)\n",
        "print(numeros)\n",
        "n = numeros.pop()\n",
        "print(n)\n",
        "print(numeros)\n",
        "\n",
        "n = numeros.pop(1)\n",
        "print(n)\n",
        "print(numeros)\n",
        "\n",
        "mas_numeros = [400, 500, 600, 700]\n",
        "numeros.extend(mas_numeros)\n",
        "print(numeros)\n",
        "\n",
        "#numeros.clear()\n",
        "print(numeros)\n",
        "\n",
        "#Lista y la estructura de control for\n",
        "\n",
        "for num in numeros:\n",
        "  print(f\"-->{num}<--\")\n",
        "\n"
      ],
      "execution_count": null,
      "outputs": [
        {
          "output_type": "stream",
          "name": "stdout",
          "text": [
            "[100, 23, 45, 55, 1, 22, 101, 99]\n",
            "[100, 45, 55, 1, 22, 101, 99]\n",
            "[101, 100, 99, 55, 45, 33, 22, 1, 0]\n",
            "[101, 100, 99, 60, 55, 45, 33, 22, 1, 0]\n",
            "0\n",
            "[101, 100, 99, 60, 55, 45, 33, 22, 1]\n",
            "100\n",
            "[101, 99, 60, 55, 45, 33, 22, 1]\n",
            "[101, 99, 60, 55, 45, 33, 22, 1, 400, 500, 600, 700]\n",
            "[101, 99, 60, 55, 45, 33, 22, 1, 400, 500, 600, 700]\n",
            "-->101<--\n",
            "-->99<--\n",
            "-->60<--\n",
            "-->55<--\n",
            "-->45<--\n",
            "-->33<--\n",
            "-->22<--\n",
            "-->1<--\n",
            "-->400<--\n",
            "-->500<--\n",
            "-->600<--\n",
            "-->700<--\n"
          ]
        }
      ]
    },
    {
      "cell_type": "markdown",
      "metadata": {
        "id": "PpBku0DplX7p"
      },
      "source": [
        "#Tuplas\n",
        "\n",
        "estructura de dato lineal"
      ]
    },
    {
      "cell_type": "code",
      "metadata": {
        "colab": {
          "base_uri": "https://localhost:8080/"
        },
        "id": "WLeaoahRmQqP",
        "outputId": "4b7aafa9-5163-486d-c2cc-3fd5f8705a02"
      },
      "source": [
        "datos_conexion = ('123.234.145.23' , 'Juan' , 'patito123')\n",
        "print( datos_conexion[0])\n",
        "#datos_conexion[0] = \"127.0.0.1\"\n",
        "dir(datos_conexion)\n"
      ],
      "execution_count": null,
      "outputs": [
        {
          "output_type": "stream",
          "name": "stdout",
          "text": [
            "123.234.145.23\n"
          ]
        },
        {
          "output_type": "execute_result",
          "data": {
            "text/plain": [
              "['__add__',\n",
              " '__class__',\n",
              " '__contains__',\n",
              " '__delattr__',\n",
              " '__dir__',\n",
              " '__doc__',\n",
              " '__eq__',\n",
              " '__format__',\n",
              " '__ge__',\n",
              " '__getattribute__',\n",
              " '__getitem__',\n",
              " '__getnewargs__',\n",
              " '__gt__',\n",
              " '__hash__',\n",
              " '__init__',\n",
              " '__init_subclass__',\n",
              " '__iter__',\n",
              " '__le__',\n",
              " '__len__',\n",
              " '__lt__',\n",
              " '__mul__',\n",
              " '__ne__',\n",
              " '__new__',\n",
              " '__reduce__',\n",
              " '__reduce_ex__',\n",
              " '__repr__',\n",
              " '__rmul__',\n",
              " '__setattr__',\n",
              " '__sizeof__',\n",
              " '__str__',\n",
              " '__subclasshook__',\n",
              " 'count',\n",
              " 'index']"
            ]
          },
          "metadata": {},
          "execution_count": 21
        }
      ]
    },
    {
      "cell_type": "markdown",
      "metadata": {
        "id": "Tl8Q0Be6Zbrh"
      },
      "source": [
        "##Diccionario"
      ]
    },
    {
      "cell_type": "code",
      "metadata": {
        "colab": {
          "base_uri": "https://localhost:8080/"
        },
        "id": "x0_umzkaZgpG",
        "outputId": "fb2eec00-42e6-4ed9-bde8-8c93b3bfe6eb"
      },
      "source": [
        "persona = {\"nombre\" : \"Jose\" , \"edad\" : 19 , \"estatura\" : 1.7}\n",
        "print(persona)\n",
        "print(f\"La estatura es: { persona['estatura'] } metros\")\n",
        "\n",
        "estudiante = {\n",
        "    \"nombre\" : {\"nombres\" : [\"Jose\", \"Daniel\"],  \n",
        "                \"paterno\" : \"Pérez\",\n",
        "                \"materno\" : \"Barajas\",\n",
        "               } ,\n",
        "    \"edad\" : 19 , \n",
        "    \"estatura\" : 1.7 ,\n",
        "    \"carrera\" : {\"escuela\" : \"UNAM FES Aragón\",\n",
        "                 \"carrera\" : \"ICO\",\n",
        "                 \"semestre\" : 2\n",
        "                } ,\n",
        "    \"direccion\" : {\"calle\" : \"colorines\",\n",
        "                   \"num_exterior\" : 34,\n",
        "                   \"interior\" : \"apartamento b\"\n",
        "                   } ,\n",
        "    \"telefonos\" : {\"casa\" : 5586597412,\n",
        "                   \"celular\" : ['5514645573' , '5542618973'],\n",
        "                   }\n",
        "    }\n",
        "print(estudiante['direccion']['calle'])\n",
        "print(estudiante['estatura'])\n",
        "print(estudiante['telefonos']['celular'][1])\n",
        "estudiante['direccion']['calle'] = 'pancho agrio'\n",
        "print(estudiante['direccion']['calle'])\n",
        "\n",
        "#combinar con la invocacion de metodos de valores\n",
        "#mostrar el nombre del estudiante en mayusculas???\n",
        "print(estudiante['nombre']['nombres'][0].upper())\n",
        "\n",
        "llaves = estudiante.keys()\n",
        "print(llaves)\n",
        "print('------------------')\n",
        "for llave in llaves:\n",
        "  print(llave)\n",
        "  print(estudiante[llave])\n",
        "\n",
        "#values\n",
        "print('----------values-----------')\n",
        "vals = estudiante.values()\n",
        "for val in vals:\n",
        "  print(val)"
      ],
      "execution_count": null,
      "outputs": [
        {
          "output_type": "stream",
          "name": "stdout",
          "text": [
            "{'nombre': 'Jose', 'edad': 19, 'estatura': 1.7}\n",
            "La estatura es: 1.7 metros\n",
            "colorines\n",
            "1.7\n",
            "5542618973\n",
            "pancho agrio\n",
            "JOSE\n",
            "dict_keys(['nombre', 'edad', 'estatura', 'carrera', 'direccion', 'telefonos'])\n",
            "------------------\n",
            "nombre\n",
            "{'nombres': ['Jose', 'Daniel'], 'paterno': 'Pérez', 'materno': 'Barajas'}\n",
            "edad\n",
            "19\n",
            "estatura\n",
            "1.7\n",
            "carrera\n",
            "{'escuela': 'UNAM FES Aragón', 'carrera': 'ICO', 'semestre': 2}\n",
            "direccion\n",
            "{'calle': 'pancho agrio', 'num_exterior': 34, 'interior': 'apartamento b'}\n",
            "telefonos\n",
            "{'casa': 5586597412, 'celular': ['5514645573', '5542618973']}\n",
            "----------values-----------\n",
            "{'nombres': ['Jose', 'Daniel'], 'paterno': 'Pérez', 'materno': 'Barajas'}\n",
            "19\n",
            "1.7\n",
            "{'escuela': 'UNAM FES Aragón', 'carrera': 'ICO', 'semestre': 2}\n",
            "{'calle': 'pancho agrio', 'num_exterior': 34, 'interior': 'apartamento b'}\n",
            "{'casa': 5586597412, 'celular': ['5514645573', '5542618973']}\n"
          ]
        }
      ]
    },
    {
      "cell_type": "code",
      "metadata": {
        "colab": {
          "base_uri": "https://localhost:8080/"
        },
        "id": "GyHUqgbbh5i3",
        "outputId": "1233eaff-76b0-4a97-c600-c2d529f3a109"
      },
      "source": [
        "help(estudiante)"
      ],
      "execution_count": null,
      "outputs": [
        {
          "output_type": "stream",
          "name": "stdout",
          "text": [
            "Help on dict object:\n",
            "\n",
            "class dict(object)\n",
            " |  dict() -> new empty dictionary\n",
            " |  dict(mapping) -> new dictionary initialized from a mapping object's\n",
            " |      (key, value) pairs\n",
            " |  dict(iterable) -> new dictionary initialized as if via:\n",
            " |      d = {}\n",
            " |      for k, v in iterable:\n",
            " |          d[k] = v\n",
            " |  dict(**kwargs) -> new dictionary initialized with the name=value pairs\n",
            " |      in the keyword argument list.  For example:  dict(one=1, two=2)\n",
            " |  \n",
            " |  Methods defined here:\n",
            " |  \n",
            " |  __contains__(self, key, /)\n",
            " |      True if the dictionary has the specified key, else False.\n",
            " |  \n",
            " |  __delitem__(self, key, /)\n",
            " |      Delete self[key].\n",
            " |  \n",
            " |  __eq__(self, value, /)\n",
            " |      Return self==value.\n",
            " |  \n",
            " |  __ge__(self, value, /)\n",
            " |      Return self>=value.\n",
            " |  \n",
            " |  __getattribute__(self, name, /)\n",
            " |      Return getattr(self, name).\n",
            " |  \n",
            " |  __getitem__(...)\n",
            " |      x.__getitem__(y) <==> x[y]\n",
            " |  \n",
            " |  __gt__(self, value, /)\n",
            " |      Return self>value.\n",
            " |  \n",
            " |  __init__(self, /, *args, **kwargs)\n",
            " |      Initialize self.  See help(type(self)) for accurate signature.\n",
            " |  \n",
            " |  __iter__(self, /)\n",
            " |      Implement iter(self).\n",
            " |  \n",
            " |  __le__(self, value, /)\n",
            " |      Return self<=value.\n",
            " |  \n",
            " |  __len__(self, /)\n",
            " |      Return len(self).\n",
            " |  \n",
            " |  __lt__(self, value, /)\n",
            " |      Return self<value.\n",
            " |  \n",
            " |  __ne__(self, value, /)\n",
            " |      Return self!=value.\n",
            " |  \n",
            " |  __repr__(self, /)\n",
            " |      Return repr(self).\n",
            " |  \n",
            " |  __setitem__(self, key, value, /)\n",
            " |      Set self[key] to value.\n",
            " |  \n",
            " |  __sizeof__(...)\n",
            " |      D.__sizeof__() -> size of D in memory, in bytes\n",
            " |  \n",
            " |  clear(...)\n",
            " |      D.clear() -> None.  Remove all items from D.\n",
            " |  \n",
            " |  copy(...)\n",
            " |      D.copy() -> a shallow copy of D\n",
            " |  \n",
            " |  get(self, key, default=None, /)\n",
            " |      Return the value for key if key is in the dictionary, else default.\n",
            " |  \n",
            " |  items(...)\n",
            " |      D.items() -> a set-like object providing a view on D's items\n",
            " |  \n",
            " |  keys(...)\n",
            " |      D.keys() -> a set-like object providing a view on D's keys\n",
            " |  \n",
            " |  pop(...)\n",
            " |      D.pop(k[,d]) -> v, remove specified key and return the corresponding value.\n",
            " |      If key is not found, d is returned if given, otherwise KeyError is raised\n",
            " |  \n",
            " |  popitem(...)\n",
            " |      D.popitem() -> (k, v), remove and return some (key, value) pair as a\n",
            " |      2-tuple; but raise KeyError if D is empty.\n",
            " |  \n",
            " |  setdefault(self, key, default=None, /)\n",
            " |      Insert key with a value of default if key is not in the dictionary.\n",
            " |      \n",
            " |      Return the value for key if key is in the dictionary, else default.\n",
            " |  \n",
            " |  update(...)\n",
            " |      D.update([E, ]**F) -> None.  Update D from dict/iterable E and F.\n",
            " |      If E is present and has a .keys() method, then does:  for k in E: D[k] = E[k]\n",
            " |      If E is present and lacks a .keys() method, then does:  for k, v in E: D[k] = v\n",
            " |      In either case, this is followed by: for k in F:  D[k] = F[k]\n",
            " |  \n",
            " |  values(...)\n",
            " |      D.values() -> an object providing a view on D's values\n",
            " |  \n",
            " |  ----------------------------------------------------------------------\n",
            " |  Class methods defined here:\n",
            " |  \n",
            " |  fromkeys(iterable, value=None, /) from builtins.type\n",
            " |      Create a new dictionary with keys from iterable and values set to value.\n",
            " |  \n",
            " |  ----------------------------------------------------------------------\n",
            " |  Static methods defined here:\n",
            " |  \n",
            " |  __new__(*args, **kwargs) from builtins.type\n",
            " |      Create and return a new object.  See help(type) for accurate signature.\n",
            " |  \n",
            " |  ----------------------------------------------------------------------\n",
            " |  Data and other attributes defined here:\n",
            " |  \n",
            " |  __hash__ = None\n",
            "\n"
          ]
        }
      ]
    },
    {
      "cell_type": "markdown",
      "metadata": {
        "id": "5UkvbUdSpm9_"
      },
      "source": [
        "#Funciones segunda parte (El reencuentro)\n",
        "\n",
        "### Declara funciones combinandola con tuplas\n",
        "Se puede recibir una lista de argumentos dinamica que se almacenara \n",
        "en una tupla. Para ello se utiliza un operador especial que es un * \n",
        "en la declaracion de la funcion.\n",
        "\n"
      ]
    },
    {
      "cell_type": "code",
      "metadata": {
        "colab": {
          "base_uri": "https://localhost:8080/"
        },
        "id": "cjwSny-0pyXI",
        "outputId": "6c16ca58-a7ba-4ef9-834d-86ef12e69632"
      },
      "source": [
        "def mi_funcion( *argumentos):\n",
        "  print(argumentos)\n",
        "mi_funcion(1,2,'hhhhh')\n",
        "\n",
        "def suma_v2( *vals):\n",
        "  suma = 0\n",
        "  for valor in vals:\n",
        "    suma += valor\n",
        "    print(suma)\n",
        "\n",
        "suma_v2(5,4,7,8,9,6,3,2,1,4,7,8,9)\n",
        "\n"
      ],
      "execution_count": null,
      "outputs": [
        {
          "output_type": "stream",
          "name": "stdout",
          "text": [
            "(1, 2, 'hhhhh')\n",
            "5\n",
            "9\n",
            "16\n",
            "24\n",
            "33\n",
            "39\n",
            "42\n",
            "44\n",
            "45\n",
            "49\n",
            "56\n",
            "64\n",
            "73\n"
          ]
        }
      ]
    },
    {
      "cell_type": "markdown",
      "metadata": {
        "id": "S6sz4S4Ktbrh"
      },
      "source": [
        "#declarar funciones declarandolas con diccionarios"
      ]
    },
    {
      "cell_type": "code",
      "metadata": {
        "colab": {
          "base_uri": "https://localhost:8080/"
        },
        "id": "aZFaCNVothTV",
        "outputId": "d2617b0c-5017-4d74-9231-17c3d3371cb3"
      },
      "source": [
        "def mi_funcion( **argumentos):\n",
        "  print(argumentos)\n",
        "\n",
        "mi_funcion( nombre='Jose', edad=19)"
      ],
      "execution_count": null,
      "outputs": [
        {
          "output_type": "stream",
          "name": "stdout",
          "text": [
            "{'nombre': 'Jose', 'edad': 19}\n"
          ]
        }
      ]
    },
    {
      "cell_type": "markdown",
      "metadata": {
        "id": "9V3jkcV2Lb2c"
      },
      "source": [
        "# Modulos\n",
        "\n",
        "Un modulo en python es equivalente a un package en java o un archivo .H en lenguaje C.\n",
        "\n",
        "En él declaras código que quieras llamar varias veces, este codigo debe de estar empaquetado principalmente en funciones."
      ]
    },
    {
      "cell_type": "code",
      "metadata": {
        "colab": {
          "base_uri": "https://localhost:8080/"
        },
        "id": "vxMnei5XMR84",
        "outputId": "997c718b-7570-4e50-a440-84c947b1c1f4"
      },
      "source": [
        "import mimodulo\n",
        "\n",
        "mimodulo.mi_suma(3,4)\n",
        "print(\"\")\n",
        "mimodulo.mi_print(\"Hola que hace\")\n",
        "print(\"\")\n",
        "mimodulo.al_reves(\"Hola que hace\")\n",
        "print(\"\")"
      ],
      "execution_count": null,
      "outputs": [
        {
          "output_type": "stream",
          "name": "stdout",
          "text": [
            "Haciendo una suma\n",
            "La suma de 3 + 4 = 7\n",
            "\n",
            "HOLA QUE HACE\n",
            "\n",
            "ecah euq aloH\n",
            "\n"
          ]
        }
      ]
    },
    {
      "cell_type": "code",
      "metadata": {
        "colab": {
          "base_uri": "https://localhost:8080/"
        },
        "id": "FyyQQr9yRx3P",
        "outputId": "24758c6f-35fa-48b8-bdd1-22fbf05fc64e"
      },
      "source": [
        "from mimodulo import mi_print\n",
        "\n",
        "mi_print(\"Hola de nuevo mi chavo\")"
      ],
      "execution_count": null,
      "outputs": [
        {
          "output_type": "stream",
          "name": "stdout",
          "text": [
            "HOLA DE NUEVO MI CHAVO\n"
          ]
        }
      ]
    },
    {
      "cell_type": "code",
      "metadata": {
        "colab": {
          "base_uri": "https://localhost:8080/"
        },
        "id": "H5rRjXj1SVRd",
        "outputId": "5f82ed4d-b1d1-4229-b9cd-d8fcfc1dd113"
      },
      "source": [
        "import sys\n",
        "#dir(sys)\n",
        "\n",
        "print( sys.path )"
      ],
      "execution_count": null,
      "outputs": [
        {
          "output_type": "stream",
          "name": "stdout",
          "text": [
            "['', '/content', '/env/python', '/usr/lib/python37.zip', '/usr/lib/python3.7', '/usr/lib/python3.7/lib-dynload', '/usr/local/lib/python3.7/dist-packages', '/usr/lib/python3/dist-packages', '/usr/local/lib/python3.7/dist-packages/IPython/extensions', '/root/.ipython']\n"
          ]
        }
      ]
    },
    {
      "cell_type": "code",
      "metadata": {
        "colab": {
          "base_uri": "https://localhost:8080/"
        },
        "id": "K48vRD_tT2K-",
        "outputId": "69e2f12f-7868-4230-9901-133188e464aa"
      },
      "source": [
        "!pip install simple-chalk"
      ],
      "execution_count": null,
      "outputs": [
        {
          "output_type": "stream",
          "name": "stdout",
          "text": [
            "Collecting simple-chalk\n",
            "  Downloading simple_chalk-0.1.0.tar.gz (13 kB)\n",
            "Building wheels for collected packages: simple-chalk\n",
            "  Building wheel for simple-chalk (setup.py) ... \u001b[?25l\u001b[?25hdone\n",
            "  Created wheel for simple-chalk: filename=simple_chalk-0.1.0-py3-none-any.whl size=22163 sha256=4b45c74aa1951f75ce204546847e65207e6c16df4d872bf9567e636f36393e03\n",
            "  Stored in directory: /root/.cache/pip/wheels/24/e2/84/d54838032016039eef79df1137b91defaa6db068d825dfcdcd\n",
            "Successfully built simple-chalk\n",
            "Installing collected packages: simple-chalk\n",
            "Successfully installed simple-chalk-0.1.0\n"
          ]
        }
      ]
    },
    {
      "cell_type": "code",
      "metadata": {
        "colab": {
          "base_uri": "https://localhost:8080/"
        },
        "id": "url1NjS-UXLQ",
        "outputId": "f592098b-75df-49bb-bfed-e6207aa518a4"
      },
      "source": [
        "from simple_chalk import *\n",
        "\n",
        "print(chalk.blue(\"Texto en azul\\n\"))\n",
        "\n",
        "whyNot = green.bgWhite.red.bgGray\n",
        "print(whyNot(\"this is red text with a gray background\\n\"))\n",
        "\n",
        "verde_sebre_negro = green.bgBlack\n",
        "print(verde_sebre_negro(\"prueba1\\n\"))\n",
        "\n"
      ],
      "execution_count": null,
      "outputs": [
        {
          "output_type": "stream",
          "name": "stdout",
          "text": [
            "\u001b[34mTexto en azul\n",
            "\u001b[0m\n",
            "\u001b[31;100mthis is red text with a gray background\n",
            "\u001b[0m\n",
            "\u001b[32;40mprueba1\u001b[0m\n"
          ]
        }
      ]
    },
    {
      "cell_type": "markdown",
      "metadata": {
        "id": "IYBX5aASW7Do"
      },
      "source": [
        "#Archivos\n",
        "Para abrir un archivo se utiliza la funcion open('nombre','AB')\n",
        "\n",
        "nombre = La ruta del archivo    \n",
        "A = modo de apertura ( w, r, a, ...)   \n",
        "B = Formato t (texto) o b (binario)\n",
        "\n",
        "Para leer tenemos las funciones:\n",
        "- read()\n",
        "- readline()\n",
        "- readlines()"
      ]
    },
    {
      "cell_type": "code",
      "metadata": {
        "colab": {
          "base_uri": "https://localhost:8080/"
        },
        "id": "8TMBQ6T6Y0Qh",
        "outputId": "f48b37a6-5ed5-4227-9589-b8264b4916de"
      },
      "source": [
        "!cat datos.dat"
      ],
      "execution_count": null,
      "outputs": [
        {
          "output_type": "stream",
          "name": "stdout",
          "text": [
            "1,2,3,4,5,6,7\r\n",
            "8,9,10\r\n",
            "11,12\r\n",
            "13"
          ]
        }
      ]
    },
    {
      "cell_type": "code",
      "metadata": {
        "colab": {
          "base_uri": "https://localhost:8080/"
        },
        "id": "27Nyv2OAYEjl",
        "outputId": "9367d8fe-9eb7-4257-f953-4d437b543639"
      },
      "source": [
        "'''\n",
        "1,2,3,4,5,6,7\n",
        "8,9,10\n",
        "11,12\n",
        "13\n",
        "'''\n",
        "archivo = open('datos.dat','rt')\n",
        "info = archivo.read()\n",
        "print(info + \"\\n-.-.-.-.-.-.Readline-.-.-.-.-.-.\")\n",
        "\n",
        "# readline()\n",
        "archivo = open('datos.dat','rt')\n",
        "info = archivo.readline()\n",
        "print(info + \"\\nsegunda parte\")\n",
        "\n",
        "info = archivo.readline()\n",
        "print(info + \"\\n-.-.-.-.-.Readlines-.-.-.-.\")\n",
        "\n",
        "#readlines\n",
        "\n",
        "archivo = open('datos.dat', 'rt')\n",
        "info = archivo.readlines()\n",
        "print(info)\n",
        "\n",
        "print(\"Quitar espacios, dar formato\")\n",
        "\n",
        "for index in range(len(info)):\n",
        "  info[index] = info[index].strip()\n",
        "print(info)\n",
        "\n",
        "print(\"\\n-.-.-.-.-.\")\n",
        "\n",
        "numeros = []\n",
        "\n",
        "for grupo in info:\n",
        "  for numero in grupo.split(','):\n",
        "    numeros.append(int(numero))\n",
        "print(numeros)\n",
        "\n",
        "print(\"\\n.-.-.-.-.-\")\n",
        "suma = 0\n",
        "for num in numeros:\n",
        "  suma += num \n",
        "\n",
        "print( suma )"
      ],
      "execution_count": 5,
      "outputs": [
        {
          "output_type": "stream",
          "name": "stdout",
          "text": [
            "1, 2, 3, 4, 5, 6, 7, 8, 9, 10, 11, 12, 13\n",
            "-.-.-.-.-.-.Readline-.-.-.-.-.-.\n",
            "1, 2, 3, 4, 5, 6, 7, 8, 9, 10, 11, 12, 13\n",
            "segunda parte\n",
            "\n",
            "-.-.-.-.-.Readlines-.-.-.-.\n",
            "['1, 2, 3, 4, 5, 6, 7, 8, 9, 10, 11, 12, 13']\n",
            "Quitar espacios, dar formato\n",
            "['1, 2, 3, 4, 5, 6, 7, 8, 9, 10, 11, 12, 13']\n",
            "\n",
            "-.-.-.-.-.\n",
            "[1, 2, 3, 4, 5, 6, 7, 8, 9, 10, 11, 12, 13]\n",
            "\n",
            ".-.-.-.-.-\n",
            "91\n"
          ]
        }
      ]
    },
    {
      "cell_type": "markdown",
      "metadata": {
        "id": "o5qTDIkLgB1t"
      },
      "source": [
        "#Programacion Orientada a Objetos en Python\n",
        "\n",
        "La POO es un paradigma no soportado originalmente por Python aneja el paradigma imperativo.\n",
        "\n",
        "Python simula la POO con la declaracion de clases y haciendo referencia a un objeto de forma circular.\n",
        "\n",
        "1. Forma 1  \n",
        "\n",
        "class <Nombre de la clase>  \n",
        "    <definicion del cuerpo de la clase>\n",
        "\n",
        "2. Forma 2  \n",
        "\n",
        "class <nombre de la clase>(<super clase>)  \n",
        "<definicion del cuerpo de la clase>\n",
        "\n",
        "El construtor se define simple con el metodo"
      ]
    },
    {
      "cell_type": "code",
      "metadata": {
        "id": "sR-KJ4Q4iLxK"
      },
      "source": [
        "class Persona:\n",
        "  def __init__(self , n , e , est):\n",
        "    self.__nombre = n\n",
        "    self.__edad = e\n",
        "    self.__estatura = est\n",
        "\n",
        "  def to_string( self ) :\n",
        "    return \"Nombre: \" + self.__nombre + \" Edad: \" + str(self.__edad) + \" Estatura: \" + str(self.__estatura)\n",
        " \n",
        "  def set_estatura(self,nueva_est): \n",
        "    if nueva_est > 0.10 and nueva_est < 2.5:\n",
        "      self.__estatura = nueva_est\n",
        "    else:\n",
        "      print(\"ERROR: Esa estatura no es posible\")\n",
        "  \n",
        "  def get_estatura(self):\n",
        "    return self.__estatura\n",
        "\n"
      ],
      "execution_count": 16,
      "outputs": []
    },
    {
      "cell_type": "code",
      "metadata": {
        "colab": {
          "base_uri": "https://localhost:8080/"
        },
        "id": "ESWD8otBiXLI",
        "outputId": "6fb22ae7-26a7-47e7-c703-0c0b8e09692e"
      },
      "source": [
        "per = Persona(\"Jose\", 19, 1.70)\n",
        "print(per.to_string())\n",
        "\n",
        "#encapsulamiento\n",
        "\n",
        "per.nombre = \"Pedro\" \n",
        "print(per.to_string())\n",
        "\n",
        "#per.estatura = 3.9\n",
        "per.set_estatura(1.9)\n",
        "print(per.to_string())\n",
        "\n",
        "print(\"Estatura: \" , end=\"\")\n",
        "print(per.get_estatura() )\n"
      ],
      "execution_count": 19,
      "outputs": [
        {
          "output_type": "stream",
          "name": "stdout",
          "text": [
            "Nombre: Jose Edad: 19 Estatura: 1.7\n",
            "Nombre: Jose Edad: 19 Estatura: 1.7\n",
            "Nombre: Jose Edad: 19 Estatura: 1.9\n",
            "Estatura: 1.9\n"
          ]
        }
      ]
    },
    {
      "cell_type": "code",
      "metadata": {
        "id": "jmfnv_cQqtWy"
      },
      "source": [
        "class Estudiante( Persona):\n",
        "  def __init__( self , nc, nombre , edad, est):\n",
        "    self.__num_cta = nc \n",
        "    super().__init__(nombre,edad,est)\n",
        "\n",
        "  def to_string( self ):\n",
        "    return super().to_string() + \" Numero de cuenta: \" + self.__num_cta\n"
      ],
      "execution_count": 29,
      "outputs": []
    },
    {
      "cell_type": "code",
      "metadata": {
        "colab": {
          "base_uri": "https://localhost:8080/"
        },
        "id": "AyG9VN-lrJtQ",
        "outputId": "af6a40a5-02b2-4e64-cc2a-bb4cbf728e93"
      },
      "source": [
        "est = Estudiante(\"318007126\",\"Jose\",18,1.7)\n",
        "print( est.to_string() )"
      ],
      "execution_count": 31,
      "outputs": [
        {
          "output_type": "stream",
          "name": "stdout",
          "text": [
            "Nombre: Jose Edad: 18 Estatura: 1.7 Numero de cuenta: 318007126\n"
          ]
        }
      ]
    }
  ]
}